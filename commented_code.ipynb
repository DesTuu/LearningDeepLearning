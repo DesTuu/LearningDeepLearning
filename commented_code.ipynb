{
  "nbformat": 4,
  "nbformat_minor": 0,
  "metadata": {
    "colab": {
      "provenance": [],
      "authorship_tag": "ABX9TyPs2mPV7vSgMzEGyBq2/QBj",
      "include_colab_link": true
    },
    "kernelspec": {
      "name": "python3",
      "display_name": "Python 3"
    },
    "language_info": {
      "name": "python"
    }
  },
  "cells": [
    {
      "cell_type": "markdown",
      "metadata": {
        "id": "view-in-github",
        "colab_type": "text"
      },
      "source": [
        "<a href=\"https://colab.research.google.com/github/DesTuu/LearningDeepLearning/blob/main/first.ipynb\" target=\"_parent\"><img src=\"https://colab.research.google.com/assets/colab-badge.svg\" alt=\"Open In Colab\"/></a>"
      ]
    },
    {
      "cell_type": "code",
      "source": [
        "# Import necessary libraries\n",
        "import torch  # PyTorch main library for deep learning\n",
        "import torch.nn as nn  # Neural network module\n",
        "import torch.optim as optim  # Optimization algorithms\n",
        "import torch.nn.functional as F  # Functional operations (like activation functions)\n",
        "from torchvision import datasets, transforms  # Utilities for loading datasets and applying transformations\n",
        "from torch.utils.data import DataLoader  # Helps load data in batches efficiently\n",
        "\n",
        "# Define a simple neural network\n",
        "class SimpleNN(nn.Module):  # The neural network inherits from nn.Module (PyTorch's base class for models)\n",
        "    def __init__(self):  # Constructor for initializing layers\n",
        "        super(SimpleNN, self).__init__()  # Calls the parent class constructor\n",
        "        self.fc1 = nn.Linear(28*28, 128)  # Fully connected layer: input 28*28 pixels, output 128 neurons\n",
        "        self.fc2 = nn.Linear(128, 10)  # Fully connected layer: input 128 neurons, output 10 (for 10 digit classes)\n",
        "\n",
        "    def forward(self, x):  # Defines how data flows through the network\n",
        "        x = x.view(-1, 28*28)  # Reshapes 2D images (28x28) into a 1D vector (28*28 = 784)\n",
        "        x = F.relu(self.fc1(x))  # First layer with ReLU activation\n",
        "        x = self.fc2(x)  # Second layer (logits, no activation as CrossEntropyLoss handles it)\n",
        "        return x  # Output is the raw scores (logits) for each class\n",
        "\n",
        "# Load MNIST dataset (handwritten digits)\n",
        "transform = transforms.Compose([\n",
        "    transforms.ToTensor(),  # Convert images to tensors (PyTorch format)\n",
        "    transforms.Normalize((0.5,), (0.5,))  # Normalize images (mean=0.5, std=0.5) to improve training\n",
        "])\n",
        "\n",
        "# Download and load the training data\n",
        "train_data = datasets.MNIST(root='./data', train=True, transform=transform, download=True)\n",
        "train_loader = DataLoader(train_data, batch_size=32, shuffle=True)  # Load data in batches of 32\n",
        "\n",
        "# Initialize model, loss function, and optimizer\n",
        "model = SimpleNN()  # Create an instance of our neural network\n",
        "criterion = nn.CrossEntropyLoss()  # Loss function for classification (logits + softmax)\n",
        "optimizer = optim.Adam(model.parameters(), lr=0.001)  # Adam optimizer with a learning rate of 0.001\n",
        "\n",
        "# Training loop\n",
        "num_epochs = 5  # Number of times the entire dataset will be passed through the model\n",
        "\n",
        "for epoch in range(num_epochs):  # Loop through each epoch\n",
        "    for images, labels in train_loader:  # Loop through mini-batches\n",
        "        optimizer.zero_grad()  # Reset gradients to avoid accumulation\n",
        "        outputs = model(images)  # Forward pass: get predictions\n",
        "        loss = criterion(outputs, labels)  # Compute loss (how far predictions are from actual labels)\n",
        "        loss.backward()  # Compute gradients using backpropagation\n",
        "        optimizer.step()  # Update model parameters based on gradients\n",
        "\n",
        "    print(f\"Epoch [{epoch+1}/{num_epochs}], Loss: {loss.item():.4f}\")  # Print loss for monitoring\n",
        "\n",
        "print(\"Training complete!\")  # Print message after training\n"
      ],
      "metadata": {
        "colab": {
          "base_uri": "https://localhost:8080/"
        },
        "id": "VfwN4a1JwIPy",
        "outputId": "f414e846-350e-459a-da75-162a7e0488fa"
      },
      "execution_count": 1,
      "outputs": [
        {
          "output_type": "stream",
          "name": "stdout",
          "text": [
            "Downloading http://yann.lecun.com/exdb/mnist/train-images-idx3-ubyte.gz\n",
            "Failed to download (trying next):\n",
            "<urlopen error [Errno 111] Connection refused>\n",
            "\n",
            "Downloading https://ossci-datasets.s3.amazonaws.com/mnist/train-images-idx3-ubyte.gz\n",
            "Downloading https://ossci-datasets.s3.amazonaws.com/mnist/train-images-idx3-ubyte.gz to ./data/MNIST/raw/train-images-idx3-ubyte.gz\n"
          ]
        },
        {
          "output_type": "stream",
          "name": "stderr",
          "text": [
            "100%|██████████| 9.91M/9.91M [00:00<00:00, 52.1MB/s]\n"
          ]
        },
        {
          "output_type": "stream",
          "name": "stdout",
          "text": [
            "Extracting ./data/MNIST/raw/train-images-idx3-ubyte.gz to ./data/MNIST/raw\n",
            "\n",
            "Downloading http://yann.lecun.com/exdb/mnist/train-labels-idx1-ubyte.gz\n",
            "Failed to download (trying next):\n",
            "<urlopen error [Errno 111] Connection refused>\n",
            "\n",
            "Downloading https://ossci-datasets.s3.amazonaws.com/mnist/train-labels-idx1-ubyte.gz\n",
            "Downloading https://ossci-datasets.s3.amazonaws.com/mnist/train-labels-idx1-ubyte.gz to ./data/MNIST/raw/train-labels-idx1-ubyte.gz\n"
          ]
        },
        {
          "output_type": "stream",
          "name": "stderr",
          "text": [
            "100%|██████████| 28.9k/28.9k [00:00<00:00, 1.92MB/s]\n"
          ]
        },
        {
          "output_type": "stream",
          "name": "stdout",
          "text": [
            "Extracting ./data/MNIST/raw/train-labels-idx1-ubyte.gz to ./data/MNIST/raw\n",
            "\n",
            "Downloading http://yann.lecun.com/exdb/mnist/t10k-images-idx3-ubyte.gz\n",
            "Failed to download (trying next):\n",
            "<urlopen error [Errno 111] Connection refused>\n",
            "\n",
            "Downloading https://ossci-datasets.s3.amazonaws.com/mnist/t10k-images-idx3-ubyte.gz\n",
            "Downloading https://ossci-datasets.s3.amazonaws.com/mnist/t10k-images-idx3-ubyte.gz to ./data/MNIST/raw/t10k-images-idx3-ubyte.gz\n"
          ]
        },
        {
          "output_type": "stream",
          "name": "stderr",
          "text": [
            "100%|██████████| 1.65M/1.65M [00:00<00:00, 14.5MB/s]\n"
          ]
        },
        {
          "output_type": "stream",
          "name": "stdout",
          "text": [
            "Extracting ./data/MNIST/raw/t10k-images-idx3-ubyte.gz to ./data/MNIST/raw\n",
            "\n",
            "Downloading http://yann.lecun.com/exdb/mnist/t10k-labels-idx1-ubyte.gz\n",
            "Failed to download (trying next):\n",
            "<urlopen error [Errno 111] Connection refused>\n",
            "\n",
            "Downloading https://ossci-datasets.s3.amazonaws.com/mnist/t10k-labels-idx1-ubyte.gz\n",
            "Downloading https://ossci-datasets.s3.amazonaws.com/mnist/t10k-labels-idx1-ubyte.gz to ./data/MNIST/raw/t10k-labels-idx1-ubyte.gz\n"
          ]
        },
        {
          "output_type": "stream",
          "name": "stderr",
          "text": [
            "100%|██████████| 4.54k/4.54k [00:00<00:00, 3.91MB/s]\n"
          ]
        },
        {
          "output_type": "stream",
          "name": "stdout",
          "text": [
            "Extracting ./data/MNIST/raw/t10k-labels-idx1-ubyte.gz to ./data/MNIST/raw\n",
            "\n",
            "Epoch [1/5], Loss: 0.1393\n",
            "Epoch [2/5], Loss: 0.1027\n",
            "Epoch [3/5], Loss: 0.1386\n",
            "Epoch [4/5], Loss: 0.0227\n",
            "Epoch [5/5], Loss: 0.0139\n",
            "Training complete!\n"
          ]
        }
      ]
    }
  ]
}
